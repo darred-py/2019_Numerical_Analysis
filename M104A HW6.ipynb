{
 "cells": [
  {
   "cell_type": "markdown",
   "metadata": {},
   "source": [
    "### Problem 1"
   ]
  },
  {
   "cell_type": "code",
   "execution_count": 3,
   "metadata": {},
   "outputs": [
    {
     "name": "stdout",
     "output_type": "stream",
     "text": [
      "[0.0, 1.513705285705932, 11.660133509251635, 0.0]\n",
      "[0.0, 1.513705285705932, 11.660133509251635, 0.0]\n"
     ]
    },
    {
     "data": {
      "image/png": "[encoded data removed]",
      "text/plain": [
       "<Figure size 432x288 with 1 Axes>"
      ]
     },
     "metadata": {
      "needs_background": "light"
     },
     "output_type": "display_data"
    }
   ],
   "source": [
    "'''\n",
    "First of all, I'd like to acknowledge Amir O. for helping me debug my index issues.\n",
    "\n",
    "Name: Daniel Arredondo\n",
    "Last Edited: 07/15/2020\n",
    "\n",
    "Triadiagonal Matrix Solver\n",
    "'''\n",
    "\n",
    "import numpy as np\n",
    "import matplotlib.pyplot as mat\n",
    "import math as m\n",
    "%matplotlib inline\n",
    "\n",
    "coordinates = [(0.0,0.0),(1.0,1.0),(2.0,16.0)] #list of vectors, x_j, y_j\n",
    "test = [0,1,2,3]\n",
    "testf = []\n",
    "for x in test:\n",
    "    testf.append((x,m.exp(x)))\n",
    "    \n",
    "def z_node_function(f_array): \n",
    "    #input: list of 'coordinates', list whose elements are two values.\n",
    "    # First we calculate little a, b, c, d\n",
    "    n = len(f_array)\n",
    "    a = []\n",
    "    b = []\n",
    "    c = []\n",
    "    d = []\n",
    "    for i in range(1,n-1):        \n",
    "        a.append(2*( f_array[i+1][0]-f_array[i-1][0] ))\n",
    "        d1 = (f_array[i+1][1]-f_array[i][1])/(f_array[i+1][0]-f_array[i][0]) \n",
    "        d1 = d1 - (f_array[i][1]-f_array[i-1][1])/(f_array[i][0]-f_array[i-1][0])\n",
    "        d.append(6*d1)\n",
    "    for ii in range(1, n-2):\n",
    "        b.append(f_array[ii+1][0]-f_array[ii][0])\n",
    "        c.append(f_array[ii][0]-f_array[ii-1][0])\n",
    "        \n",
    "    # Next, we calculate our z nodes, substituting our value n\n",
    "    # for the length of a, such as to avoid calculating the endpoints\n",
    "    # z_0 and z_n\n",
    "    \n",
    "    n = len(a)\n",
    "    #print(n)\n",
    "    m = [a[0]]\n",
    "    y = [d[0]]\n",
    "    l = []\n",
    "    \n",
    "    for j in range(n-1):\n",
    "        l.append(c[j]/m[j])\n",
    "        m.append(a[j+1] - l[j]*b[j])\n",
    "        \n",
    "    for k in range(1, n):\n",
    "        y.append(d[k] - l[k-1] * y[k-1])\n",
    "    \n",
    "    z = [0]*(n)\n",
    "    z[-1] = y[-1]/m[-1]\n",
    "    \n",
    "    for iii in range(n-2, -1, -1):\n",
    "        z[iii] = ((y[iii] - b[iii]*z[iii+1])/m[iii] )\n",
    "    \n",
    "    z.insert(0,0.0)\n",
    "    z.append(0.0)\n",
    "    print(z)\n",
    "    return z # output: a list of z nodes\n",
    "\n",
    "\n",
    "\n",
    "def CapitalCoefficients(z_nodes, f_array):\n",
    "    #inputs: our z nodes and our previously aformentioned 'coordinates'\n",
    "    #outputs: A list whose elements are lists of A_j, B_j, C_j, D_j for each spline\n",
    "    n = len(z_nodes)\n",
    "    A=[]\n",
    "    B=[]\n",
    "    C=[]\n",
    "    D=[]\n",
    "    for i in range(n-1): #we evaluate our spline coefficients with our given z_j, and each for-loop\n",
    "                        # represents a different set of coefficients for a different interval on the spline\n",
    "        A.append((z_nodes[i+1]-z_nodes[i])/(6*(f_array[i+1][0]-f_array[i][0])))\n",
    "        B.append((0.5)*z_nodes[i])\n",
    "        C.append((1/(f_array[i+1][0]-f_array[i][0]))*(f_array[i+1][1]-f_array[i][1]) - \\\n",
    "            (1/6)*(f_array[i+1][0]-f_array[i][0])*(z_nodes[i+1]+2*z_nodes[i]))\n",
    "        D.append(f_array[i][1])\n",
    "    Cof = [A,B,C,D] #list of lists\n",
    "    return Cof\n",
    "\n",
    "# z = z_node_function(coordinates)\n",
    "# c = CapitalCoefficients(z, coordinates)\n",
    "\n",
    "tz = z_node_function(testf)\n",
    "ta = CapitalCoefficients(tz, testf)\n",
    "# print(tz, ta[0])\n",
    "\n",
    "\n",
    "\n",
    "def s_j(X, f_array):\n",
    "    #inputs: X is a list of points where we evalute our spline at, f_array is our 'cooridinate' nodes\n",
    "    #outpus: a list of size X, which allows us to graph along with X in mat.plot\n",
    "    z = z_node_function(f_array)\n",
    "    CapCof = CapitalCoefficients(z, f_array)\n",
    "    y = []\n",
    "    for x in X: # we begin the process of evaluating our input value\n",
    "        que = 0 #this controls a lower bounds in a for loop later for checking\n",
    "                # where the x value lies between which node\n",
    "        if (x < f_array[0][0] or x > f_array[len(f_array)-1][0]):\n",
    "            pass # A quality check. Any input values outside of outside of our nodes are thrown away and no evaluated\n",
    "        else:\n",
    "            for k in range(que, len(f_array)): #que changes through false if-statements, resets on each new x input\n",
    "                if abs(x - f_array[k][0]) < 0.000001: #This is how we check if our input value is actually an\n",
    "                                                        # interpolation node\n",
    "                    y.append(f_array[k][1]) # we append the interpolation node\n",
    "                if x > f_array[k][0] and x < f_array[k+1][0]:# Here we are evaluting our spline with out input x\n",
    "                    y.append(CapCof[0][k]*(x-f_array[k][0])**3 +\\\n",
    "                        CapCof[1][k]*(x-f_array[k][0])**2 +\\\n",
    "                        CapCof[2][k]*(x-f_array[k][0]) +\\\n",
    "                        CapCof[3][k])\n",
    "                else: que += 1; #If our x is not within the bounds of x(j) and x(j+1) nodes, we increase the lower\n",
    "                            # bounds to reevalute the input x at the next set of nodes x(j+1) and x(j+2)\n",
    "    return y\n",
    "\n",
    "\n",
    "\n",
    "prec_x = np.arange(0,3,0.03)\n",
    "prec_f = []\n",
    "approx_f = s_j(prec_x, testf)\n",
    "for jk in prec_x:\n",
    "    prec_f.append(m.exp(jk))\n",
    "\n",
    "mat.plot(prec_x, prec_f, '--', label='Exact')\n",
    "mat.plot(prec_x, approx_f, '', label='Approxiamtion')\n",
    "mat.legend(loc='upper left')\n",
    "mat.show()"
   ]
  },
  {
   "cell_type": "markdown",
   "metadata": {},
   "source": [
    "### Problem 2\n",
    "\n",
    "Spline Graphing"
   ]
  },
  {
   "cell_type": "code",
   "execution_count": 12,
   "metadata": {},
   "outputs": [
    {
     "name": "stdout",
     "output_type": "stream",
     "text": [
      "[0.0, 0.039320428702891375, 0.23179835421574355, 2.0972572196142436, -1.8071900908005378, 6.728424761331322, -1.0190512391169801, 0.2476361703205055, 0.0]\n",
      "[0.0, 1.0743448551050194, -4.96085513931473, 0.04199952355248365, -0.6511897020468728, 2.8576565438941572, 1.1550304915607377, -0.5211854292129106, 0.0]\n",
      "[0.0, 0.039320428702891375, 0.23179835421574355, 2.0972572196142436, -1.8071900908005378, 6.728424761331322, -1.0190512391169801, 0.2476361703205055, 0.0]\n",
      "[0.0, 1.0743448551050194, -4.96085513931473, 0.04199952355248365, -0.6511897020468728, 2.8576565438941572, 1.1550304915607377, -0.5211854292129106, 0.0]\n"
     ]
    },
    {
     "data": {
      "image/png": "[encoded data removed]",
      "text/plain": [
       "<Figure size 432x288 with 1 Axes>"
      ]
     },
     "metadata": {
      "needs_background": "light"
     },
     "output_type": "display_data"
    }
   ],
   "source": [
    "x_j = [(0,1.5) ,(0.618,0.9),(0.935,0.6),(1.255,0.35),(1.636,0.2) ,(1.905,0.1),(2.317,0.5),(2.827,1.0),(3.330,1.5)]\n",
    "y_j = [(0,0.75),(0.618,0.9),(0.935,1.0),(1.255,0.8) ,(1.636,0.45),(1.905,0.2),(2.317,0.1),(2.827,0.2),(3.330,0.25)]\n",
    "\n",
    "t_j_x = np.arange(0,3.33,2*0.00333)\n",
    "\n",
    "x_z = z_node_function(x_j)\n",
    "y_z = z_node_function(y_j)\n",
    "\n",
    "#print(len(x_z),len(y_z))\n",
    "\n",
    "x_cof = CapitalCoefficients(x_z, x_j)\n",
    "y_cof = CapitalCoefficients(y_z, y_j)\n",
    "\n",
    "#print(len(x_cof[0]), len(y_cof[0]))\n",
    "\n",
    "x___s = s_j(t_j_x, x_j)\n",
    "y___s = s_j(t_j_x, y_j)\n",
    "\n",
    "#print(len(t_j_x),len(x___s), len(y___s))\n",
    "\n",
    "mat.plot(x___s, y___s, 'blue')\n",
    "mat.show()"
   ]
  }
 ],
 "metadata": {
  "kernelspec": {
   "display_name": "Python 3",
   "language": "python",
   "name": "python3"
  },
  "language_info": {
   "codemirror_mode": {
    "name": "ipython",
    "version": 3
   },
   "file_extension": ".py",
   "mimetype": "text/x-python",
   "name": "python",
   "nbconvert_exporter": "python",
   "pygments_lexer": "ipython3",
   "version": "3.7.1"
  }
 },
 "nbformat": 4,
 "nbformat_minor": 2
}
