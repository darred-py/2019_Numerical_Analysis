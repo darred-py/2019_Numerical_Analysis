{
 "cells": [
  {
   "cell_type": "markdown",
   "metadata": {},
   "source": [
    "# Homework 1"
   ]
  },
  {
   "cell_type": "markdown",
   "metadata": {},
   "source": [
    "## Problem 1 - Review and state the following theorems of Calculus:\n",
    "\n",
    "### a) Intermediate Value Theorem\n",
    "On an interval from $[a,b]$, a continuous function assumes all values between $f(a)$ and $f(b)$.\n",
    "### b) Mean Value Theorem\n",
    "If $f$ is in $C[a,b]$ and if $f'$ exists on the open interval $(a,b)$, then for x and c in the closed interval $[a,b]$, $$f(x)=f(c)+f'(\\xi)(x-c),$$ where $\\xi$ is between c and x.\n",
    "### c) Rolle's Theorem\n",
    "If $f$ is continuous on $[a,b]$, if $f'$ exists on $(a,b)$, and if $f(a) = f(b)$, then $f'(\\xi)=0$ for some $\\xi$ in the open interval $(a,b)$.\n",
    "### d) Mean Value Theorem for Integrals\n",
    "Let $u$ and $v$ be continuous real-valued functions on an interval $[a,b]$, and suppose that $v \\leq 0$. Then there exists a point $\\xi$ in $[a,b]$ such that\n",
    "$$\n",
    "\\int^b_a u(x)v(x) dx = u(\\xi) \\int^b_a v(x) dx\n",
    "$$\n",
    "### e) Weighted Mean Value Theorem for Integrals\n",
    "If $f$ is continuous on $[a,b]$, and $g$ is a function that is integrable on $[a,b]$ and does not change sign on $[a,b]$, then \n",
    "$$\\int^b_a f(x)g(x) dx = f(c) \\int^b_a g(x) dx$$"
   ]
  },
  {
   "cell_type": "markdown",
   "metadata": {},
   "source": [
    "## Problem 2 - Composite Trapezoidal Rule\n",
    "#### 2.a) \n",
    "Test code with $\\frac{1}{(1+x)^2}$ in $[0,2]$ for $h = \\frac{2}{20}, \\frac{2}{40}, \\frac{2}{80}$"
   ]
  },
  {
   "cell_type": "code",
   "execution_count": 41,
   "metadata": {},
   "outputs": [],
   "source": [
    "import sympy\n",
    "import numpy as np\n",
    "import math\n",
    "\n",
    "#Implemenation of CTR\n",
    "#By Daniel Arredondo\n",
    "#10/3/2019\n",
    "#Input: function as string, integral limits a and b, and number of nodes N\n",
    "#Output: CTR approx. of the integral of f from a to b\n",
    "\n",
    "def CTR(eqn, a, b, N):\n",
    "    h = (b-a)/float(N) #our distance between each value. Affects the while loop below\n",
    "    i=1\n",
    "    f = 0 \n",
    "    \n",
    "    in_dict = {\"x\":a} #Here i am setting the x from our equation to the first element a using a dictionary (key:value)\n",
    "    subs = {sympy.symbols(key):item for key,item in in_dict.items()} #for loop substution involving dictionaries\n",
    "    #print(sympy.simplify(eqn).evalf(subs = subs) / 2)\n",
    "    f += (sympy.simplify(eqn).evalf(subs = subs) / 2.0) #we evaluate the function, currently at x = a\n",
    "    \n",
    "    #print(a) #troubleshooting purposes\n",
    "    while i < N:\n",
    "        x_i = a + i*h #With each step, x_i is updated to the next position until the while loop breaks when x_i == b\n",
    "        #print(x_i) #troubleshooting purposes to make sure x_i is correctly calculated\n",
    "        \n",
    "        in_dict = {\"x\":x_i} #we follow the same process as above, where x in our equation is substituted for our value x_i\n",
    "        subs = {sympy.symbols(key):item for key,item in in_dict.items()}\n",
    "        f += sympy.simplify(eqn).evalf(subs = subs) \n",
    "        \n",
    "        i += 1\n",
    "\n",
    "    \n",
    "    #print(b) #troubleshooting purposes\n",
    "    in_dict = {\"x\":b} #trying to get the output for the last element in our bounds\n",
    "    subs = {sympy.symbols(key):item for key,item in in_dict.items()}\n",
    "    f += (sympy.simplify(eqn).evalf(subs = subs)/2.0)\n",
    "    \n",
    "    output = h * f #sum up all of the functions outputs, and then multiple by our h\n",
    "    \n",
    "    #print(num_list) # Here we can look at each output of our equation at each point from a to b\n",
    "    return output"
   ]
  },
  {
   "cell_type": "markdown",
   "metadata": {},
   "source": [
    "We evaluate the actual integral:\n",
    "$$I[f(x)] = \\int^2_0 \\frac{1}{(1+x)^2}dx = \\frac{2}{3}$$\n",
    "\n",
    "We then calculate $|I[f] - T_h[f]|$:"
   ]
  },
  {
   "cell_type": "code",
   "execution_count": 47,
   "metadata": {},
   "outputs": [
    {
     "name": "stdout",
     "output_type": "stream",
     "text": [
      "Estimated Integral for N=20:  0.668268308795014\n",
      "Difference = 0.00160164212834690 \n",
      "\n",
      "Estimated Integral for N=40:  0.667067694129132\n",
      "Difference = 0.000401027462465842 \n",
      "\n",
      "Estimated Integral for N=80:  0.666766962347198\n",
      "Difference = 0.000100295680531048 \n",
      "\n",
      "These are the decreasing ratios for each difference: 3.99384650242831 , 3.99845198060844 \n",
      "\n"
     ]
    }
   ],
   "source": [
    "a=0;b=2\n",
    "eqn = '1/(1+x)^2'\n",
    "arr = [CTR(eqn,a,b,20), CTR(eqn,a,b,40), CTR(eqn,a,b,80)]\n",
    "diff_arr = [(2/3)-CTR(eqn,a,b,20), (2/3)-CTR(eqn,a,b,40), (2/3)-CTR(eqn,a,b,80)]\n",
    "a = np.absolute(diff_arr[0])\n",
    "b = np.absolute(diff_arr[1])\n",
    "c = np.absolute(diff_arr[2])\n",
    "print (\"Estimated Integral for N=20: \", arr[0])\n",
    "print (\"Difference =\", a,\"\\n\")\n",
    "\n",
    "print (\"Estimated Integral for N=40: \", arr[1])\n",
    "print (\"Difference =\", b,\"\\n\")\n",
    "\n",
    "print (\"Estimated Integral for N=80: \", arr[2])\n",
    "print (\"Difference =\", c,\"\\n\")\n",
    "\n",
    "print(\"These are the decreasing ratios for each difference:\", a/b, \",\",b/c,\"\\n\")"
   ]
  },
  {
   "cell_type": "markdown",
   "metadata": {},
   "source": [
    "Since our ratios for the differences are close to 4, we can claim that the rate of convergence of the error is quadratic."
   ]
  },
  {
   "cell_type": "markdown",
   "metadata": {},
   "source": [
    "#### 2.b) \n",
    "Let $f(x) = \\sqrt(x) \\in [0,1]$. Compute $T_{1/N}$ for $N=16,32,64,128$"
   ]
  },
  {
   "cell_type": "code",
   "execution_count": 43,
   "metadata": {},
   "outputs": [
    {
     "name": "stdout",
     "output_type": "stream",
     "text": [
      "[0.663581196877228, 0.665558936278942, 0.666270811378507, 0.666525657296826, 0.666616548976528, 0.666648881549953]\n",
      "q = [2.77821123807045, 2.79335491915589, 2.80384210255628, 2.81114894588739]\n"
     ]
    }
   ],
   "source": [
    "eqn = 'x**(1/2)'\n",
    "a=0\n",
    "b=1\n",
    "N_arr = np.array([16,32,64, 128, 256, 512],dtype=int)\n",
    "N_size = N_arr.size\n",
    "CTR_arr = []\n",
    "q = []\n",
    "for i in N_arr:\n",
    "    CTR_arr.append(CTR(eqn,a,b,i))\n",
    "\n",
    "for i in range(0,N_size-2):\n",
    "    q.append((CTR_arr[i+1]-CTR_arr[i])/(CTR_arr[i+2]-CTR_arr[i+1])) #our ratio between T_h, T_h/2, etc.\n",
    "    \n",
    "print(CTR_arr)\n",
    "print(\"q =\", q)"
   ]
  },
  {
   "cell_type": "markdown",
   "metadata": {},
   "source": [
    "If we analyze the function $\\sqrt{x}$, we see that it has a discontinuity at 0. Because of this, our rate of convergence is less than 4, going pass 2.85 with larger N, possibly towards 3. If we use any a strictly larger than 0, we retain our quadractic rate of 4."
   ]
  },
  {
   "cell_type": "markdown",
   "metadata": {},
   "source": [
    "## Problem 3\n",
    "3.a) Using your code, find a value of $h$ for which $q(h)$ is approx. equal to 4."
   ]
  },
  {
   "cell_type": "code",
   "execution_count": 59,
   "metadata": {},
   "outputs": [
    {
     "name": "stdout",
     "output_type": "stream",
     "text": [
      "4.00098662415586\n",
      "25\n"
     ]
    }
   ],
   "source": [
    "eqn = 'cos(x^2)'\n",
    "a=0\n",
    "b=(math.pi/2)**(1/2)\n",
    "#N_arr = np.array([16,32,64, 128, 256, 512],dtype=int)\n",
    "#N_size = N_arr.size\n",
    "\n",
    "N = 1\n",
    "while (CTR(eqn,a,b,2*N)-CTR(eqn,a,b,N))/(CTR(eqn,a,b,4*N)-CTR(eqn,a,b,2*N)) <= 3.999 \\\n",
    "    or (CTR(eqn,a,b,2*N)-CTR(eqn,a,b,N))/(CTR(eqn,a,b,4*N)-CTR(eqn,a,b,2*N)) >= 4.001:\n",
    "        N +=1\n",
    "    \n",
    "print((CTR(eqn,a,b,2*N)-CTR(eqn,a,b,N))/(CTR(eqn,a,b,4*N)-CTR(eqn,a,b,2*N)))\n",
    "print (N)"
   ]
  },
  {
   "cell_type": "markdown",
   "metadata": {},
   "source": [
    "#### 3.b) \n",
    "Get an approx. of the error, $I[cos x^2] - T_{h}[cos x^2]$, for that particular value of $h$. I will use:\n",
    "$$\n",
    "E_h[f] \\approx \\frac{4}{3} (T_{h/2}[f] - T_h [f])\n",
    "$$"
   ]
  },
  {
   "cell_type": "code",
   "execution_count": 45,
   "metadata": {},
   "outputs": [
    {
     "name": "stdout",
     "output_type": "stream",
     "text": [
      "0.000525159676283415\n"
     ]
    }
   ],
   "source": [
    "eqn = 'cos(x^2)'\n",
    "a=0\n",
    "b=(math.pi/2)**(1/2)\n",
    "N=25\n",
    "\n",
    "error = (CTR(eqn,a,b,2*N) - CTR(eqn,a,b,N))\n",
    "error *= (4.0/3.0)\n",
    "print(error)"
   ]
  },
  {
   "cell_type": "markdown",
   "metadata": {},
   "source": [
    "#### 3.c) \n",
    "Use this error approx. to obtain the extrapolated, improved, approx.\n",
    "$$\n",
    "S_h[cos x^2] =  T_h[cos x^2] + E_h[cos x^2]\n",
    "$$"
   ]
  },
  {
   "cell_type": "code",
   "execution_count": 46,
   "metadata": {},
   "outputs": [
    {
     "name": "stdout",
     "output_type": "stream",
     "text": [
      "0.977451458825585\n"
     ]
    }
   ],
   "source": [
    "eqn = 'cos(x^2)'\n",
    "a=0\n",
    "b=(math.pi/2)**(1/2)\n",
    "N=25\n",
    "\n",
    "error = (CTR(eqn,a,b,2*N) - CTR(eqn,a,b,N))\n",
    "error *= (4.0/3.0)\n",
    "simpson_approx = CTR(eqn,a,b,N) + error\n",
    "\n",
    "print(simpson_approx)"
   ]
  },
  {
   "cell_type": "markdown",
   "metadata": {},
   "source": [
    "#### 3.d) \n",
    "Explain why $S_h[cos x^2]$ is more accuarte and converges faster to $I[cos x^2]$ than $T_h[cos x^2]$\n",
    "\n",
    "By using Richard's Extrapolation, Simpson's Quadrature has an error correction while the Composite Trapezoidal Rule Quadrature has no error correction."
   ]
  },
  {
   "cell_type": "code",
   "execution_count": null,
   "metadata": {},
   "outputs": [],
   "source": []
  }
 ],
 "metadata": {
  "kernelspec": {
   "display_name": "Python 3",
   "language": "python",
   "name": "python3"
  },
  "language_info": {
   "codemirror_mode": {
    "name": "ipython",
    "version": 3
   },
   "file_extension": ".py",
   "mimetype": "text/x-python",
   "name": "python",
   "nbconvert_exporter": "python",
   "pygments_lexer": "ipython3",
   "version": "3.7.1"
  }
 },
 "nbformat": 4,
 "nbformat_minor": 2
}
