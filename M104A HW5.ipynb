{
 "cells": [
  {
   "cell_type": "markdown",
   "metadata": {},
   "source": [
    "### Problem 1\n",
    "#### a)\n",
    "Let $p(x)$ be a polynomial of degree at most $n$, and $l_n(x)$ be an interpolating polynomial of $(p(x)$ of Lagrange Form, and $t_n(x)$ an interpolating polynomial of Newton's form, both of degree at most $n$. Then if both $l_n(x)$ and $t_n(x)$ both interpolate $p(x)$ equally at the same nodes, then the polynomial of the difference $l_n(x) - t_n(x)$ must contain $n+1$ zeros, which implies that $l_n(x) - t_(x)$ is identically the zero polynomial. Thus, $l_n(x) = t_n(x)$, and therefore the leading coefficients of either polynomial are equivalent.\n",
    "\n",
    "#### b)\n",
    "Consider a divided difference $f[x_0,...,x_k,...,x_l,...,x_n]$, where $x_i$ are arbitrary nodes, and k<l. Then if we switch $x_k$ and $x_l$ in the ordering, then our summation of lagrange constants within (1) is unchanged since the index of $x_k$ and $x_l$ can be manipulated to represent the new ordering. Therefore, taking any permutation of $x_0, x_1, ..., x_n$ leaves our divided difference unchanged."
   ]
  },
  {
   "cell_type": "markdown",
   "metadata": {},
   "source": [
    "### Problem 2"
   ]
  },
  {
   "cell_type": "code",
   "execution_count": 1,
   "metadata": {},
   "outputs": [
    {
     "data": {
      "text/plain": [
       "<Figure size 640x480 with 1 Axes>"
      ]
     },
     "metadata": {},
     "output_type": "display_data"
    }
   ],
   "source": [
    "'''\n",
    "By: Daniel Arredondo\n",
    "Last Edited: 05/24/2020\n",
    "\n",
    "NewtCof:\n",
    "in: list of nodes and list of evaluated nodes\n",
    "out: a single array, meant to be coefficients of Newtons Form (Newton's Divided Differences)\n",
    "\n",
    "Horner_Func\n",
    "in: list of nodes, list of evaluated nodes, points of x to approximate to\n",
    "out: list of approximations at each x\n",
    "'''\n",
    "\n",
    "import numpy as np\n",
    "import math as m\n",
    "import matplotlib\n",
    "import matplotlib.pyplot as mat \n",
    "\n",
    "def NewtCof(lst_f, lst_x): #lst_x are nodes, lst_f are values of f(nodes)\n",
    "    c_j = np.array([]) #empty array\n",
    "    n = len(lst_x) #length of list of nodes\n",
    "    for x in range(n):\n",
    "        c_j = np.append(c_j, lst_f[x]) #we create a dummy list to modify\n",
    "    for k in range(1, n+1):\n",
    "        for j in range(n-1, k-1, -1):\n",
    "            c_j[j] = (c_j[j]-c_j[j-1])/(lst_x[j]-lst_x[j-k])\n",
    "    return c_j\n",
    "\n",
    "def Horner_Func(x, lst_f, lst_x):\n",
    "    n = len(lst_x) #take length of array\n",
    "    NC = NewtCof(lst_f,lst_x) #create our coefficients within the function\n",
    "    p = NC[n-1] # We then set our value p to the last value in NC\n",
    "    for j in range(n-2,-1,-1):\n",
    "        p = NC[j] + (x - lst_x[j])*p \n",
    "    return p\n",
    "        \n",
    "def func(x): # Function for (2.b)\n",
    "    temp = x**2\n",
    "    temp *= -1\n",
    "    return (m.exp(temp))\n",
    "\n",
    "def tempfunc(x): #Test function using an interesting graph\n",
    "    temp_1 = 5*(x)\n",
    "    return (abs(m.sin(temp_1))) #Next time use a lambda function\n",
    "\n",
    "# The following code is used to test the mapping function of\n",
    "# the previous code, as to prepare for question (2.b)\n",
    "\n",
    "temp_nodes = np.arange(-1,1.01, 0.2) # Our nodes we will approximate with\n",
    "temp_fnodes = np.array([]) # Will hold the values of p(x) for x in nodes\n",
    "\n",
    "temp_x = np.arange(-1,1.01,0.02) # resolution x, size 100\n",
    "temp_truef = np.array([]) #resolution f(x) and will hold the true values at f(x)\n",
    "\n",
    "test_poly_approx = np.array([]) # our approximations from Horner_Func\n",
    "\n",
    "for t in temp_nodes:\n",
    "    temp_fnodes = np.append(temp_fnodes, tempfunc(t))\n",
    "    \n",
    "for tt in temp_x:\n",
    "    temp_truef = np.append(temp_truef, tempfunc(tt))\n",
    "    test_poly_approx = np.append(test_poly_approx, Horner_Func(tt,temp_fnodes, temp_nodes))\n",
    "    \n",
    "mat.plot(temp_x, temp_truef, color='blue', label='f(x)')\n",
    "mat.plot(temp_x, test_poly_approx, color='red', label='p(x)')\n",
    "mat.grid(True, which='both')\n",
    "mat.legend(loc='lower left')\n",
    "mat.xlabel('$x$')\n",
    "mat.title('Test: Difference between $|sin(5x)|$ and $p(x)$')\n",
    "mat.show()"
   ]
  },
  {
   "cell_type": "code",
   "execution_count": 2,
   "metadata": {},
   "outputs": [
    {
     "data": {
      "image/png": "[encoded data removed]",
      "text/plain": [
       "<Figure size 432x288 with 1 Axes>"
      ]
     },
     "metadata": {
      "needs_background": "light"
     },
     "output_type": "display_data"
    }
   ],
   "source": [
    "#\n",
    "#     Problem 2.b\n",
    "#\n",
    "\n",
    "list_of_nodes = np.arange(-1,1.01, 0.2)\n",
    "list_of_fnodes = np.array([])\n",
    "\n",
    "list_of_x = np.arange(-1,1.01,0.02)\n",
    "list_of_truef = np.array([])\n",
    "\n",
    "poly_approx = np.array([])\n",
    "\n",
    "for xx in list_of_nodes:\n",
    "    list_of_fnodes = np.append(list_of_fnodes, func(xx))\n",
    "    \n",
    "for i in list_of_x:\n",
    "    list_of_truef = np.append(list_of_truef, func(i))\n",
    "    poly_approx = np.append(poly_approx, Horner_Func(i,list_of_fnodes, list_of_nodes))\n",
    "    \n",
    "#print(list_of_truef[0:25]-poly_approx[:25])\n",
    "\n",
    "mat.plot(list_of_x, list_of_truef - poly_approx, color='green')\n",
    "mat.grid(True, which='both')\n",
    "mat.ylabel('$f(x) - p_n(x)$')\n",
    "mat.xlabel('$x$')\n",
    "mat.title('Error between $e^{-x^2}$ and $p_{10}(x)$')\n",
    "mat.show()"
   ]
  },
  {
   "cell_type": "markdown",
   "metadata": {},
   "source": [
    "### Problem 3"
   ]
  },
  {
   "cell_type": "code",
   "execution_count": 3,
   "metadata": {},
   "outputs": [
    {
     "name": "stdout",
     "output_type": "stream",
     "text": [
      "0.5675445848373015\n"
     ]
    }
   ],
   "source": [
    "x_0 = 0.5\n",
    "x_1 = 0.6\n",
    "\n",
    "y_0 = -0.106530659712633 \n",
    "y_1 = 0.051188363905973\n",
    "\n",
    "finv_0_1 = (x_1-x_0)/(y_1-y_0)\n",
    "# print(finv_0_1)\n",
    "# print(-y_0*finv_0_1)\n",
    "print(x_0 - y_0*finv_0_1)"
   ]
  },
  {
   "cell_type": "markdown",
   "metadata": {},
   "source": [
    "Thus, $p_1(0) =$ 0.5675445848373015"
   ]
  },
  {
   "cell_type": "markdown",
   "metadata": {},
   "source": [
    "### Problem 4\n",
    "We construct the table of Newton's Divided Differences as follows:\n",
    "\n",
    "$\n",
    "\\begin{matrix}\n",
    "0&|&0&&&\\\\\n",
    "0&|&0&0&&\\\\\n",
    "1&|&2&2&2&\\\\\n",
    "1&|&2&3&1&-1 \\\\\n",
    "\\end{matrix}\n",
    "$\n",
    "\n",
    "\n",
    "and therefore\n",
    "$$\n",
    "p(x) = 0 + 0(x-0) + 2(x-0)^2 - (x-0)^2(x-1) = 3x^2 - x^3\n",
    "$$"
   ]
  },
  {
   "cell_type": "code",
   "execution_count": 11,
   "metadata": {},
   "outputs": [
    {
     "name": "stdout",
     "output_type": "stream",
     "text": [
      "[ 15.   30.   37.5 187.5]\n",
      "[  15.           30.          162.5        -541.66666667]\n"
     ]
    }
   ],
   "source": [
    "'''\n",
    "UoA - Math 270 stuff\n",
    "24 May 2020\n",
    "'''\n",
    "f_list_2 = [15,21,40,46]\n",
    "f_list_1 = [15,21,30,51]\n",
    "\n",
    "x_list = [0.0, 0.2, 0.4, 0.6]\n",
    "print(NewtCof(f_list_1, x_list))\n",
    "print(NewtCof(f_list_2, x_list))"
   ]
  },
  {
   "cell_type": "code",
   "execution_count": null,
   "metadata": {},
   "outputs": [],
   "source": []
  }
 ],
 "metadata": {
  "kernelspec": {
   "display_name": "Python 3",
   "language": "python",
   "name": "python3"
  },
  "language_info": {
   "codemirror_mode": {
    "name": "ipython",
    "version": 3
   },
   "file_extension": ".py",
   "mimetype": "text/x-python",
   "name": "python",
   "nbconvert_exporter": "python",
   "pygments_lexer": "ipython3",
   "version": "3.7.1"
  }
 },
 "nbformat": 4,
 "nbformat_minor": 2
}
